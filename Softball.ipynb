{
  "nbformat": 4,
  "nbformat_minor": 0,
  "metadata": {
    "colab": {
      "name": "Softball.ipynb",
      "provenance": [],
      "authorship_tag": "ABX9TyNGYERxGs+pgeUX9lX04v6Z",
      "include_colab_link": true
    },
    "kernelspec": {
      "name": "python3",
      "display_name": "Python 3"
    },
    "language_info": {
      "name": "python"
    }
  },
  "cells": [
    {
      "cell_type": "markdown",
      "metadata": {
        "id": "view-in-github",
        "colab_type": "text"
      },
      "source": [
        "<a href=\"https://colab.research.google.com/github/JScottLopez/Softball/blob/main/Softball.ipynb\" target=\"_parent\"><img src=\"https://colab.research.google.com/assets/colab-badge.svg\" alt=\"Open In Colab\"/></a>"
      ]
    },
    {
      "cell_type": "markdown",
      "source": [
        "My notebook for Software DS"
      ],
      "metadata": {
        "id": "8UkI4YmIUwSs"
      }
    },
    {
      "cell_type": "code",
      "source": [
        "#OBP - On Base Percentage\n",
        "#OBP = Hits + Walks + Hit By Pitch / At Bats + Walks + Hit By Pitch + Sac Flies\n",
        "\n",
        "\n",
        "def calc_OBP(obp):\n",
        "  if obp <= .289:\n",
        "    print(\"OBP has not achieved scale\")\n",
        "  elif obp >= .290 and obp <= .299:\n",
        "    print(\"OBP is Awful\")\n",
        "  elif obp >= .300 and obp <= .309:\n",
        "    print(\"OBP is Poor\")\n",
        "  elif obp >= .310 and obp <= .319:\n",
        "    print(\"OBP is Below Average\")\n",
        "  elif obp >= .320 and obp <= .339:\n",
        "    print(\"OBP is Average\")\n",
        "  elif obp >= .340 and obp <= .369:\n",
        "    print(\"OBP is Above Average\")\n",
        "  elif obp >= .370 and obp <= .389: \n",
        "    print(\"OBP is Great\")\n",
        "  else: \n",
        "    print(\"OBP is Excellent\")\n",
        "\n",
        "obp = .390\n",
        "calc_OBP(obp)\n"
      ],
      "metadata": {
        "id": "FQOPYM_UU8cA",
        "outputId": "fb20c703-e103-413b-be2a-de3f65d25510",
        "colab": {
          "base_uri": "https://localhost:8080/"
        }
      },
      "execution_count": 4,
      "outputs": [
        {
          "output_type": "stream",
          "name": "stdout",
          "text": [
            "OBP is Excellent\n"
          ]
        }
      ]
    },
    {
      "cell_type": "code",
      "source": [
        "#Magic to run R in JN\n",
        "%load_ext rpy2.ipython"
      ],
      "metadata": {
        "id": "NdBar3G4T1Fz"
      },
      "execution_count": 6,
      "outputs": []
    },
    {
      "cell_type": "code",
      "source": [
        "%%R\n",
        "library(readr)\n",
        "maddux <- read_csv(\"Maddux.csv\")"
      ],
      "metadata": {
        "id": "RJ-lFes0AQhK",
        "outputId": "5db8c8d2-7c8d-4891-9670-052a262a06b6",
        "colab": {
          "base_uri": "https://localhost:8080/"
        }
      },
      "execution_count": 13,
      "outputs": [
        {
          "output_type": "stream",
          "name": "stdout",
          "text": [
            "Rows: 23 Columns: 56\n",
            "── Column specification ────────────────────────────────────────────────────────\n",
            "Delimiter: \",\"\n",
            "chr  (2): Team, LG\n",
            "dbl (54): Season, W, L, ERA, G, GS, CG, SHO, HLD, SV, SVO, IP, H, R, ER, HR,...\n",
            "\n",
            "ℹ Use `spec()` to retrieve the full column specification for this data.\n",
            "ℹ Specify the column types or set `show_col_types = FALSE` to quiet this message.\n"
          ]
        }
      ]
    },
    {
      "cell_type": "code",
      "source": [
        "%%R\n",
        "is.numeric(maddux$ERA)"
      ],
      "metadata": {
        "id": "037n8umGCLW1",
        "outputId": "6b7bd97c-362e-4d5a-9a90-cca4ea2820e5",
        "colab": {
          "base_uri": "https://localhost:8080/"
        }
      },
      "execution_count": 15,
      "outputs": [
        {
          "output_type": "stream",
          "name": "stdout",
          "text": [
            "[1] TRUE\n"
          ]
        }
      ]
    },
    {
      "cell_type": "code",
      "source": [
        "%%R\n",
        "summary(maddux$ERA)"
      ],
      "metadata": {
        "id": "n9a6kiznCarq",
        "outputId": "8e300943-5082-44d5-b95b-3a3f0d606267",
        "colab": {
          "base_uri": "https://localhost:8080/"
        }
      },
      "execution_count": 19,
      "outputs": [
        {
          "output_type": "stream",
          "name": "stdout",
          "text": [
            "   Min. 1st Qu.  Median    Mean 3rd Qu.    Max. \n",
            "  1.560   2.490   3.180   3.303   4.080   5.610 \n"
          ]
        }
      ]
    },
    {
      "cell_type": "code",
      "source": [
        "%%R\n",
        "hist(maddux$ERA, main=\"Maddux's Career ERA Histogram\")"
      ],
      "metadata": {
        "id": "9R6S06LHCnAB",
        "outputId": "f9195e44-c95b-4a1b-92eb-feba95d57177",
        "colab": {
          "base_uri": "https://localhost:8080/",
          "height": 497
        }
      },
      "execution_count": 22,
      "outputs": [
        {
          "output_type": "display_data",
          "data": {
            "image/png": "[encoded data removed]"
          },
          "metadata": {}
        }
      ]
    },
    {
      "cell_type": "code",
      "source": [
        "%%R\n",
        "boxplot(maddux$ERA, main=\"Maddux's Career ERA Boxplot\")"
      ],
      "metadata": {
        "id": "JJFhzhj-C2B2",
        "outputId": "385b7724-c154-4ff1-98a4-8039aa7ea163",
        "colab": {
          "base_uri": "https://localhost:8080/",
          "height": 497
        }
      },
      "execution_count": 24,
      "outputs": [
        {
          "output_type": "display_data",
          "data": {
            "image/png": "[encoded data removed]"
          },
          "metadata": {}
        }
      ]
    },
    {
      "cell_type": "code",
      "source": [
        "%%R\n",
        "#pairs(maddux)\n",
        "pairs(maddux[,c(6,14,15,16,17)])"
      ],
      "metadata": {
        "id": "Y8WKY2MaDywB",
        "outputId": "09824c2b-3939-421d-8e07-beec2f0afd39",
        "colab": {
          "base_uri": "https://localhost:8080/",
          "height": 497
        }
      },
      "execution_count": 29,
      "outputs": [
        {
          "output_type": "display_data",
          "data": {
            "image/png": "[encoded data removed]"
          },
          "metadata": {}
        }
      ]
    }
  ]
}