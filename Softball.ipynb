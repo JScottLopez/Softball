{
  "nbformat": 4,
  "nbformat_minor": 0,
  "metadata": {
    "colab": {
      "name": "Softball.ipynb",
      "provenance": [],
      "authorship_tag": "ABX9TyMCI6Zb5AYVi58TCFwCZhWn",
      "include_colab_link": true
    },
    "kernelspec": {
      "name": "python3",
      "display_name": "Python 3"
    },
    "language_info": {
      "name": "python"
    }
  },
  "cells": [
    {
      "cell_type": "markdown",
      "metadata": {
        "id": "view-in-github",
        "colab_type": "text"
      },
      "source": [
        "<a href=\"https://colab.research.google.com/github/JScottLopez/Softball/blob/main/Softball.ipynb\" target=\"_parent\"><img src=\"https://colab.research.google.com/assets/colab-badge.svg\" alt=\"Open In Colab\"/></a>"
      ]
    },
    {
      "cell_type": "markdown",
      "source": [
        "My notebook for Software DS"
      ],
      "metadata": {
        "id": "8UkI4YmIUwSs"
      }
    },
    {
      "cell_type": "code",
      "source": [
        "#Magic to run R in JN\n",
        "%load_ext rpy2.ipython\n",
        "\n",
        "%%R\n",
        "x<-2+5\n",
        "x"
      ],
      "metadata": {
        "id": "NdBar3G4T1Fz"
      },
      "execution_count": null,
      "outputs": []
    },
    {
      "cell_type": "code",
      "source": [
        "#OBP - On Base Percentage\n",
        "#OBP = Hits + Walks + Hit By Pitch / At Bats + Walks + Hit By Pitch + Sac Flies\n",
        "\n",
        "\n",
        "def calc_OBP(obp):\n",
        "  if obp <= .289:\n",
        "    print(\"OBP has not achieved scale\")\n",
        "  elif obp >= .290 and obp <= .299:\n",
        "    print(\"OBP is Awful\")\n",
        "  elif obp >= .300 and obp <= .309:\n",
        "    print(\"OBP is Poor\")\n",
        "  elif obp >= .310 and obp <= .319:\n",
        "    print(\"OBP is Below Average\")\n",
        "  elif obp >= .320 and obp <= .339:\n",
        "    print(\"OBP is Average\")\n",
        "  elif obp >= .340 and obp <= .369:\n",
        "    print(\"OBP is Above Average\")\n",
        "  elif obp >= .370 and obp <= .389: \n",
        "    print(\"OBP is Great\")\n",
        "  else: \n",
        "    print(\"OBP is Excellent\")\n",
        "\n",
        "obp = .390\n",
        "calc_OBP(obp)\n"
      ],
      "metadata": {
        "id": "FQOPYM_UU8cA",
        "outputId": "eb1ead15-a2f6-4af8-a5bf-7d4a866741d7",
        "colab": {
          "base_uri": "https://localhost:8080/"
        }
      },
      "execution_count": 11,
      "outputs": [
        {
          "output_type": "stream",
          "name": "stdout",
          "text": [
            "OBP is Excellent\n"
          ]
        }
      ]
    }
  ]
}